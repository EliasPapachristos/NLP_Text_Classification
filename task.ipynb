{
 "cells": [
  {
   "cell_type": "code",
   "execution_count": null,
   "metadata": {},
   "outputs": [],
   "source": [
    "from __future__ import absolute_import\n",
    "from __future__ import division\n",
    "from __future__ import print_function"
   ]
  },
  {
   "cell_type": "code",
   "execution_count": null,
   "metadata": {},
   "outputs": [],
   "source": [
    "import argparse\n",
    "from . import model\n",
    "from . import model_native"
   ]
  },
  {
   "cell_type": "code",
   "execution_count": null,
   "metadata": {},
   "outputs": [],
   "source": [
    "if __name__ == '__main__':\n",
    "    # parse command line arguments\n",
    "    parser = argparse.ArgumentParser()\n",
    "    parser.add_argument(\n",
    "        '--output_dir',\n",
    "        help='GCS location to write checkpoints and export models',\n",
    "        required=True\n",
    "    )\n",
    "    parser.add_argument(\n",
    "        '--train_data_path',\n",
    "        help='can be a local path or a GCS url (gs://...)',\n",
    "        required=True\n",
    "    )\n",
    "    parser.add_argument(\n",
    "        '--eval_data_path',\n",
    "        help='can be a local path or a GCS url (gs://...)',\n",
    "        required=True\n",
    "    )\n",
    "    parser.add_argument(\n",
    "        '--embedding_path',\n",
    "        help='OPTIONAL: can be a local path or a GCS url (gs://...). \\\n",
    "              Download from: https://nlp.stanford.edu/projects/glove/',\n",
    "    )\n",
    "    parser.add_argument(\n",
    "        '--num_epochs',\n",
    "        help='number of times to go through the data, default=10',\n",
    "        default=10,\n",
    "        type=float\n",
    "    )\n",
    "    parser.add_argument(\n",
    "        '--batch_size',\n",
    "        help='number of records to read during each training step, default=128',\n",
    "        default=128,\n",
    "        type=int\n",
    "    )\n",
    "    parser.add_argument(\n",
    "        '--learning_rate',\n",
    "        help='learning rate for gradient descent, default=.001',\n",
    "        default=.001,\n",
    "        type=float\n",
    "    )\n",
    "    parser.add_argument(\n",
    "        '--native',\n",
    "        action='store_true',\n",
    "        help='use native in-graph pre-processing functions',\n",
    "    )\n",
    "\n",
    "    args, _ = parser.parse_known_args()\n",
    "    hparams = args.__dict__\n",
    "    output_dir = hparams.pop('output_dir')\n",
    "    \n",
    "    # initiate training\n",
    "    if hparams['native']:\n",
    "        model_native.train_and_evaluate(output_dir, hparams)\n",
    "    else:\n",
    "        model.train_and_evaluate(output_dir, hparams)"
   ]
  }
 ],
 "metadata": {
  "kernelspec": {
   "display_name": "Python 3",
   "language": "python",
   "name": "python3"
  },
  "language_info": {
   "codemirror_mode": {
    "name": "ipython",
    "version": 3
   },
   "file_extension": ".py",
   "mimetype": "text/x-python",
   "name": "python",
   "nbconvert_exporter": "python",
   "pygments_lexer": "ipython3",
   "version": "3.6.6"
  }
 },
 "nbformat": 4,
 "nbformat_minor": 2
}
